{
  "metadata": {
    "kernelspec": {
      "language": "python",
      "display_name": "Python 3",
      "name": "python3"
    },
    "language_info": {
      "name": "python",
      "version": "3.10.14",
      "mimetype": "text/x-python",
      "codemirror_mode": {
        "name": "ipython",
        "version": 3
      },
      "pygments_lexer": "ipython3",
      "nbconvert_exporter": "python",
      "file_extension": ".py"
    },
    "kaggle": {
      "accelerator": "none",
      "dataSources": [
        {
          "sourceId": 1099232,
          "sourceType": "datasetVersion",
          "datasetId": 614679
        }
      ],
      "dockerImageVersionId": 30804,
      "isInternetEnabled": false,
      "language": "python",
      "sourceType": "notebook",
      "isGpuEnabled": false
    },
    "colab": {
      "provenance": []
    }
  },
  "nbformat_minor": 0,
  "nbformat": 4,
  "cells": [
    {
      "cell_type": "markdown",
      "source": [
        "Environment Set Up"
      ],
      "metadata": {
        "id": "cPNgEANhGT7c"
      }
    },
    {
      "source": [
        "# IMPORTANT: RUN THIS CELL IN ORDER TO IMPORT YOUR KAGGLE DATA SOURCES,\n",
        "# THEN FEEL FREE TO DELETE THIS CELL.\n",
        "# NOTE: THIS NOTEBOOK ENVIRONMENT DIFFERS FROM KAGGLE'S PYTHON\n",
        "# ENVIRONMENT SO THERE MAY BE MISSING LIBRARIES USED BY YOUR\n",
        "# NOTEBOOK.\n",
        "import kagglehub\n",
        "DATA_PATH = kagglehub.dataset_download('andrewmvd/medical-mnist')\n",
        "\n",
        "print('Data source import complete.')"
      ],
      "metadata": {
        "id": "Bgv0bs6Hp5YA",
        "outputId": "73500f3a-8fa5-42f4-9d9d-9b6729a60215",
        "colab": {
          "base_uri": "https://localhost:8080/"
        }
      },
      "cell_type": "code",
      "outputs": [
        {
          "output_type": "stream",
          "name": "stdout",
          "text": [
            "Downloading from https://www.kaggle.com/api/v1/datasets/download/andrewmvd/medical-mnist?dataset_version_number=1...\n"
          ]
        },
        {
          "output_type": "stream",
          "name": "stderr",
          "text": [
            "100%|██████████| 84.8M/84.8M [00:01<00:00, 52.8MB/s]"
          ]
        },
        {
          "output_type": "stream",
          "name": "stdout",
          "text": [
            "Extracting files...\n"
          ]
        },
        {
          "output_type": "stream",
          "name": "stderr",
          "text": [
            "\n"
          ]
        },
        {
          "output_type": "stream",
          "name": "stdout",
          "text": [
            "Data source import complete.\n"
          ]
        }
      ],
      "execution_count": 1
    },
    {
      "cell_type": "code",
      "source": [
        "# Verify file download.\n",
        "\n",
        "print(DATA_PATH)\n",
        "\n",
        "import os\n",
        "for dirname, _, filenames in os.walk(DATA_PATH):\n",
        "    for filename in filenames:\n",
        "        print(os.path.join(dirname, filename))"
      ],
      "metadata": {
        "_uuid": "8f2839f25d086af736a60e9eeb907d3b93b6e0e5",
        "_cell_guid": "b1076dfc-b9ad-4769-8c92-a6c4dae69d19",
        "trusted": true,
        "execution": {
          "iopub.status.busy": "2024-12-18T07:13:01.250746Z",
          "iopub.execute_input": "2024-12-18T07:13:01.251303Z",
          "iopub.status.idle": "2024-12-18T07:13:53.649689Z",
          "shell.execute_reply.started": "2024-12-18T07:13:01.251243Z",
          "shell.execute_reply": "2024-12-18T07:13:53.648748Z"
        },
        "collapsed": true,
        "jupyter": {
          "outputs_hidden": true
        },
        "id": "ZCvr8vDQp5YB"
      },
      "outputs": [],
      "execution_count": null
    },
    {
      "cell_type": "markdown",
      "source": [
        "Part 1 - Standard"
      ],
      "metadata": {
        "id": "g_-9pP0nGcM1"
      }
    },
    {
      "cell_type": "code",
      "source": [
        "import tensorflow as tf\n",
        "from tensorflow.keras import layers, models\n",
        "import numpy as np\n",
        "import matplotlib.pyplot as plt\n",
        "from sklearn.model_selection import train_test_split\n",
        "import os\n",
        "from tensorflow.keras.utils import to_categorical\n",
        "from tensorflow.keras.preprocessing.image import ImageDataGenerator\n",
        "import cv2"
      ],
      "metadata": {
        "trusted": true,
        "execution": {
          "iopub.status.busy": "2024-12-18T07:16:34.694094Z",
          "iopub.execute_input": "2024-12-18T07:16:34.694793Z",
          "iopub.status.idle": "2024-12-18T07:16:34.704787Z",
          "shell.execute_reply.started": "2024-12-18T07:16:34.694515Z",
          "shell.execute_reply": "2024-12-18T07:16:34.703509Z"
        },
        "id": "pBMVajvYp5YB"
      },
      "outputs": [],
      "execution_count": 4
    },
    {
      "cell_type": "code",
      "source": [
        "# Step 1: Load and Preprocess the Dataset - Load images and labels\n",
        "def load_data(data_path):\n",
        "    images, labels = [], []\n",
        "    class_labels = os.listdir(data_path)\n",
        "    class_map = {label: idx for idx, label in enumerate(class_labels)}\n",
        "\n",
        "    for label in class_labels:\n",
        "        folder_path = os.path.join(data_path, label)\n",
        "        for file in os.listdir(folder_path):\n",
        "            img_path = os.path.join(folder_path, file)\n",
        "            img = cv2.imread(img_path, cv2.IMREAD_GRAYSCALE)\n",
        "            img = cv2.resize(img, (28, 28))  # Resize to 28x28\n",
        "            images.append(img)\n",
        "            labels.append(class_map[label])\n",
        "\n",
        "    return np.array(images), np.array(labels), class_map\n",
        "\n",
        "images, labels, class_map = load_data(DATA_PATH)"
      ],
      "metadata": {
        "trusted": true,
        "execution": {
          "iopub.status.busy": "2024-12-18T07:18:07.579108Z",
          "iopub.execute_input": "2024-12-18T07:18:07.579618Z",
          "iopub.status.idle": "2024-12-18T07:18:07.590623Z",
          "shell.execute_reply.started": "2024-12-18T07:18:07.579539Z",
          "shell.execute_reply": "2024-12-18T07:18:07.588603Z"
        },
        "id": "ccYGaUHIp5YB"
      },
      "outputs": [],
      "execution_count": 6
    },
    {
      "cell_type": "code",
      "source": [
        "# Normalize images\n",
        "images = images / 255.0  # Normalize to [0, 1]\n",
        "images = images.reshape(-1, 28, 28, 1)  # Add channel dimension"
      ],
      "metadata": {
        "trusted": true,
        "execution": {
          "iopub.status.busy": "2024-12-18T07:18:42.113204Z",
          "iopub.execute_input": "2024-12-18T07:18:42.113876Z",
          "iopub.status.idle": "2024-12-18T07:18:42.12892Z",
          "shell.execute_reply.started": "2024-12-18T07:18:42.113805Z",
          "shell.execute_reply": "2024-12-18T07:18:42.1272Z"
        },
        "id": "8Aqierd0p5YB"
      },
      "outputs": [],
      "execution_count": 7
    },
    {
      "cell_type": "code",
      "source": [
        "# Convert labels to categorical\n",
        "num_classes = len(class_map)\n",
        "labels = to_categorical(labels, num_classes=num_classes)"
      ],
      "metadata": {
        "trusted": true,
        "execution": {
          "iopub.status.busy": "2024-12-18T07:20:04.269105Z",
          "iopub.execute_input": "2024-12-18T07:20:04.272947Z",
          "iopub.status.idle": "2024-12-18T07:20:04.283453Z",
          "shell.execute_reply.started": "2024-12-18T07:20:04.272885Z",
          "shell.execute_reply": "2024-12-18T07:20:04.282187Z"
        },
        "id": "NtSMYumjp5YB"
      },
      "outputs": [],
      "execution_count": 8
    },
    {
      "cell_type": "code",
      "source": [
        "# Split into train, validation, and test sets\n",
        "X_train, X_temp, y_train, y_temp = train_test_split(images, labels, test_size=0.3, random_state=42)\n",
        "X_val, X_test, y_val, y_test = train_test_split(X_temp, y_temp, test_size=0.5, random_state=42)"
      ],
      "metadata": {
        "trusted": true,
        "execution": {
          "iopub.status.busy": "2024-12-18T07:20:21.392721Z",
          "iopub.execute_input": "2024-12-18T07:20:21.395917Z",
          "iopub.status.idle": "2024-12-18T07:20:21.569314Z",
          "shell.execute_reply.started": "2024-12-18T07:20:21.395869Z",
          "shell.execute_reply": "2024-12-18T07:20:21.56646Z"
        },
        "id": "nuFUPQ_Fp5YC"
      },
      "outputs": [],
      "execution_count": 9
    },
    {
      "cell_type": "code",
      "source": [
        "# Data augmentation\n",
        "datagen = ImageDataGenerator(\n",
        "    rotation_range=10,\n",
        "    width_shift_range=0.1,\n",
        "    height_shift_range=0.1,\n",
        "    zoom_range=0.1\n",
        ")\n",
        "datagen.fit(X_train)"
      ],
      "metadata": {
        "id": "e94w7BSjspII"
      },
      "execution_count": 10,
      "outputs": []
    },
    {
      "cell_type": "code",
      "source": [
        "# Step 2: Design the Model\n",
        "model = models.Sequential([\n",
        "    layers.Conv2D(32, (3, 3), activation='relu', input_shape=(28, 28, 1)),\n",
        "    layers.MaxPooling2D((2, 2)),\n",
        "    layers.Conv2D(64, (3, 3), activation='relu'),\n",
        "    layers.MaxPooling2D((2, 2)),\n",
        "    layers.Flatten(),\n",
        "    layers.Dense(128, activation='relu'),\n",
        "    layers.Dropout(0.5),\n",
        "    layers.Dense(num_classes, activation='softmax')\n",
        "])\n",
        "\n",
        "model.compile(optimizer='adam',\n",
        "              loss='categorical_crossentropy',\n",
        "              metrics=['accuracy'])"
      ],
      "metadata": {
        "colab": {
          "base_uri": "https://localhost:8080/"
        },
        "id": "GFZa891UtSFF",
        "outputId": "042c5704-a647-4b89-f124-17967c19699c"
      },
      "execution_count": 11,
      "outputs": [
        {
          "output_type": "stream",
          "name": "stderr",
          "text": [
            "/usr/local/lib/python3.10/dist-packages/keras/src/layers/convolutional/base_conv.py:107: UserWarning: Do not pass an `input_shape`/`input_dim` argument to a layer. When using Sequential models, prefer using an `Input(shape)` object as the first layer in the model instead.\n",
            "  super().__init__(activity_regularizer=activity_regularizer, **kwargs)\n"
          ]
        }
      ]
    },
    {
      "cell_type": "code",
      "source": [
        "# Step 3: Train the Model\n",
        "history = model.fit(\n",
        "    datagen.flow(X_train, y_train, batch_size=32),\n",
        "    validation_data=(X_val, y_val),\n",
        "    epochs=20\n",
        ")"
      ],
      "metadata": {
        "colab": {
          "base_uri": "https://localhost:8080/"
        },
        "id": "JsVY1b-btR-Z",
        "outputId": "b0270d5d-3376-4e99-ee73-d811ef516676"
      },
      "execution_count": 12,
      "outputs": [
        {
          "output_type": "stream",
          "name": "stdout",
          "text": [
            "Epoch 1/20\n"
          ]
        },
        {
          "output_type": "stream",
          "name": "stderr",
          "text": [
            "/usr/local/lib/python3.10/dist-packages/keras/src/trainers/data_adapters/py_dataset_adapter.py:122: UserWarning: Your `PyDataset` class should call `super().__init__(**kwargs)` in its constructor. `**kwargs` can include `workers`, `use_multiprocessing`, `max_queue_size`. Do not pass these arguments to `fit()`, as they will be ignored.\n",
            "  self._warn_if_super_not_called()\n"
          ]
        },
        {
          "output_type": "stream",
          "name": "stdout",
          "text": [
            "\u001b[1m1290/1290\u001b[0m \u001b[32m━━━━━━━━━━━━━━━━━━━━\u001b[0m\u001b[37m\u001b[0m \u001b[1m58s\u001b[0m 43ms/step - accuracy: 0.8884 - loss: 0.3259 - val_accuracy: 0.9976 - val_loss: 0.0100\n",
            "Epoch 2/20\n",
            "\u001b[1m1290/1290\u001b[0m \u001b[32m━━━━━━━━━━━━━━━━━━━━\u001b[0m\u001b[37m\u001b[0m \u001b[1m57s\u001b[0m 44ms/step - accuracy: 0.9923 - loss: 0.0268 - val_accuracy: 0.9989 - val_loss: 0.0044\n",
            "Epoch 3/20\n",
            "\u001b[1m1290/1290\u001b[0m \u001b[32m━━━━━━━━━━━━━━━━━━━━\u001b[0m\u001b[37m\u001b[0m \u001b[1m82s\u001b[0m 44ms/step - accuracy: 0.9950 - loss: 0.0195 - val_accuracy: 0.9991 - val_loss: 0.0035\n",
            "Epoch 4/20\n",
            "\u001b[1m1290/1290\u001b[0m \u001b[32m━━━━━━━━━━━━━━━━━━━━\u001b[0m\u001b[37m\u001b[0m \u001b[1m80s\u001b[0m 43ms/step - accuracy: 0.9951 - loss: 0.0177 - val_accuracy: 0.9989 - val_loss: 0.0049\n",
            "Epoch 5/20\n",
            "\u001b[1m1290/1290\u001b[0m \u001b[32m━━━━━━━━━━━━━━━━━━━━\u001b[0m\u001b[37m\u001b[0m \u001b[1m83s\u001b[0m 43ms/step - accuracy: 0.9951 - loss: 0.0165 - val_accuracy: 0.9993 - val_loss: 0.0026\n",
            "Epoch 6/20\n",
            "\u001b[1m1290/1290\u001b[0m \u001b[32m━━━━━━━━━━━━━━━━━━━━\u001b[0m\u001b[37m\u001b[0m \u001b[1m83s\u001b[0m 44ms/step - accuracy: 0.9964 - loss: 0.0113 - val_accuracy: 0.9995 - val_loss: 0.0023\n",
            "Epoch 7/20\n",
            "\u001b[1m1290/1290\u001b[0m \u001b[32m━━━━━━━━━━━━━━━━━━━━\u001b[0m\u001b[37m\u001b[0m \u001b[1m82s\u001b[0m 44ms/step - accuracy: 0.9977 - loss: 0.0072 - val_accuracy: 0.9992 - val_loss: 0.0033\n",
            "Epoch 8/20\n",
            "\u001b[1m1290/1290\u001b[0m \u001b[32m━━━━━━━━━━━━━━━━━━━━\u001b[0m\u001b[37m\u001b[0m \u001b[1m54s\u001b[0m 42ms/step - accuracy: 0.9964 - loss: 0.0116 - val_accuracy: 0.9990 - val_loss: 0.0037\n",
            "Epoch 9/20\n",
            "\u001b[1m1290/1290\u001b[0m \u001b[32m━━━━━━━━━━━━━━━━━━━━\u001b[0m\u001b[37m\u001b[0m \u001b[1m54s\u001b[0m 42ms/step - accuracy: 0.9982 - loss: 0.0061 - val_accuracy: 0.9993 - val_loss: 0.0032\n",
            "Epoch 10/20\n",
            "\u001b[1m1290/1290\u001b[0m \u001b[32m━━━━━━━━━━━━━━━━━━━━\u001b[0m\u001b[37m\u001b[0m \u001b[1m54s\u001b[0m 42ms/step - accuracy: 0.9973 - loss: 0.0089 - val_accuracy: 0.9993 - val_loss: 0.0027\n",
            "Epoch 11/20\n",
            "\u001b[1m1290/1290\u001b[0m \u001b[32m━━━━━━━━━━━━━━━━━━━━\u001b[0m\u001b[37m\u001b[0m \u001b[1m57s\u001b[0m 44ms/step - accuracy: 0.9984 - loss: 0.0049 - val_accuracy: 0.9995 - val_loss: 0.0036\n",
            "Epoch 12/20\n",
            "\u001b[1m1290/1290\u001b[0m \u001b[32m━━━━━━━━━━━━━━━━━━━━\u001b[0m\u001b[37m\u001b[0m \u001b[1m81s\u001b[0m 43ms/step - accuracy: 0.9989 - loss: 0.0036 - val_accuracy: 0.9997 - val_loss: 0.0027\n",
            "Epoch 13/20\n",
            "\u001b[1m1290/1290\u001b[0m \u001b[32m━━━━━━━━━━━━━━━━━━━━\u001b[0m\u001b[37m\u001b[0m \u001b[1m56s\u001b[0m 43ms/step - accuracy: 0.9981 - loss: 0.0078 - val_accuracy: 0.9990 - val_loss: 0.0047\n",
            "Epoch 14/20\n",
            "\u001b[1m1290/1290\u001b[0m \u001b[32m━━━━━━━━━━━━━━━━━━━━\u001b[0m\u001b[37m\u001b[0m \u001b[1m53s\u001b[0m 41ms/step - accuracy: 0.9989 - loss: 0.0043 - val_accuracy: 0.9994 - val_loss: 0.0027\n",
            "Epoch 15/20\n",
            "\u001b[1m1290/1290\u001b[0m \u001b[32m━━━━━━━━━━━━━━━━━━━━\u001b[0m\u001b[37m\u001b[0m \u001b[1m85s\u001b[0m 43ms/step - accuracy: 0.9991 - loss: 0.0037 - val_accuracy: 0.9994 - val_loss: 0.0032\n",
            "Epoch 16/20\n",
            "\u001b[1m1290/1290\u001b[0m \u001b[32m━━━━━━━━━━━━━━━━━━━━\u001b[0m\u001b[37m\u001b[0m \u001b[1m80s\u001b[0m 41ms/step - accuracy: 0.9987 - loss: 0.0045 - val_accuracy: 0.9995 - val_loss: 0.0031\n",
            "Epoch 17/20\n",
            "\u001b[1m1290/1290\u001b[0m \u001b[32m━━━━━━━━━━━━━━━━━━━━\u001b[0m\u001b[37m\u001b[0m \u001b[1m82s\u001b[0m 41ms/step - accuracy: 0.9974 - loss: 0.0098 - val_accuracy: 0.9997 - val_loss: 0.0022\n",
            "Epoch 18/20\n",
            "\u001b[1m1290/1290\u001b[0m \u001b[32m━━━━━━━━━━━━━━━━━━━━\u001b[0m\u001b[37m\u001b[0m \u001b[1m53s\u001b[0m 41ms/step - accuracy: 0.9990 - loss: 0.0032 - val_accuracy: 0.9997 - val_loss: 0.0023\n",
            "Epoch 19/20\n",
            "\u001b[1m1290/1290\u001b[0m \u001b[32m━━━━━━━━━━━━━━━━━━━━\u001b[0m\u001b[37m\u001b[0m \u001b[1m86s\u001b[0m 44ms/step - accuracy: 0.9984 - loss: 0.0058 - val_accuracy: 0.9997 - val_loss: 0.0024\n",
            "Epoch 20/20\n",
            "\u001b[1m1290/1290\u001b[0m \u001b[32m━━━━━━━━━━━━━━━━━━━━\u001b[0m\u001b[37m\u001b[0m \u001b[1m52s\u001b[0m 40ms/step - accuracy: 0.9987 - loss: 0.0035 - val_accuracy: 0.9998 - val_loss: 0.0025\n"
          ]
        }
      ]
    },
    {
      "cell_type": "code",
      "source": [
        "# Step 4: Evaluate the Model\n",
        "test_loss, test_acc = model.evaluate(X_test, y_test, verbose=2)\n",
        "print(f\"Test Accuracy: {test_acc:.2f}\")"
      ],
      "metadata": {
        "colab": {
          "base_uri": "https://localhost:8080/"
        },
        "id": "l-NzaBCttR20",
        "outputId": "ff5151e5-d830-436f-e705-253c39e2a0ac"
      },
      "execution_count": 13,
      "outputs": [
        {
          "output_type": "stream",
          "name": "stdout",
          "text": [
            "277/277 - 3s - 12ms/step - accuracy: 0.9997 - loss: 0.0018\n",
            "Test Accuracy: 1.00\n"
          ]
        }
      ]
    },
    {
      "cell_type": "code",
      "source": [
        "# Step 5: Visualize Training Metrics\n",
        "plt.figure(figsize=(12, 4))\n",
        "plt.subplot(1, 2, 1)\n",
        "plt.plot(history.history['loss'], label='Loss')\n",
        "plt.plot(history.history['val_loss'], label='Val Loss')\n",
        "plt.legend()\n",
        "plt.title('Loss Over Epochs')\n",
        "\n",
        "plt.subplot(1, 2, 2)\n",
        "plt.plot(history.history['accuracy'], label='Accuracy')\n",
        "plt.plot(history.history['val_accuracy'], label='Val Accuracy')\n",
        "plt.legend()\n",
        "plt.title('Accuracy Over Epochs')\n",
        "plt.show()"
      ],
      "metadata": {
        "colab": {
          "base_uri": "https://localhost:8080/",
          "height": 391
        },
        "id": "MSnRpvcCtRFN",
        "outputId": "762ae92f-d8f7-43b9-bc48-e3d9720646b4"
      },
      "execution_count": 14,
      "outputs": [
        {
          "output_type": "display_data",
          "data": {
            "text/plain": [
              "<Figure size 1200x400 with 2 Axes>"
            ],
            "image/png": "[encoded data removed]"
          },
          "metadata": {}
        }
      ]
    },
    {
      "cell_type": "markdown",
      "source": [
        "PART 2 - Cross Validation Implementation"
      ],
      "metadata": {
        "id": "FMtKnTpWGNSN"
      }
    },
    {
      "cell_type": "code",
      "source": [
        "# Implement K-Fold Cross-Validation\n",
        "\n",
        "from sklearn.model_selection import KFold"
      ],
      "metadata": {
        "id": "O8rpAF1xz-dc"
      },
      "execution_count": 20,
      "outputs": []
    },
    {
      "cell_type": "code",
      "source": [
        "# Step 1: Prepare the dataset (Ensure images and labels are preloaded)\n",
        "images = images.reshape(-1, 28, 28, 1)  # Reshape to include channels\n",
        "labels = np.argmax(labels, axis=1)  # Convert one-hot to class labels for KFold"
      ],
      "metadata": {
        "id": "nhNS8pcEC4JW"
      },
      "execution_count": 16,
      "outputs": []
    },
    {
      "cell_type": "code",
      "source": [
        "# Step 2: Set up K-Fold Cross-Validation\n",
        "kfold = KFold(n_splits=5, shuffle=True, random_state=42)\n",
        "fold_no = 1"
      ],
      "metadata": {
        "id": "QprtxmbRC5-B"
      },
      "execution_count": 17,
      "outputs": []
    },
    {
      "cell_type": "code",
      "source": [
        "for train_idx, val_idx in kfold.split(images):\n",
        "    print(f\"Training Fold {fold_no}...\")\n",
        "\n",
        "    # Split data into training and validation sets for the current fold\n",
        "    X_train, X_val = images[train_idx], images[val_idx]\n",
        "    y_train, y_val = labels[train_idx], labels[val_idx]\n",
        "\n",
        "    # Convert labels back to one-hot encoding for Keras\n",
        "    y_train = tf.keras.utils.to_categorical(y_train, num_classes)\n",
        "    y_val = tf.keras.utils.to_categorical(y_val, num_classes)\n",
        "\n",
        "    # Step 3: Define the model\n",
        "    model = models.Sequential([\n",
        "        layers.Conv2D(32, (3, 3), activation='relu', input_shape=(28, 28, 1)),\n",
        "        layers.MaxPooling2D((2, 2)),\n",
        "        layers.Conv2D(64, (3, 3), activation='relu'),\n",
        "        layers.MaxPooling2D((2, 2)),\n",
        "        layers.Flatten(),\n",
        "        layers.Dense(128, activation='relu'),\n",
        "        layers.Dropout(0.5),\n",
        "        layers.Dense(num_classes, activation='softmax')\n",
        "    ])\n",
        "\n",
        "    model.compile(optimizer='adam',\n",
        "                  loss='categorical_crossentropy',\n",
        "                  metrics=['accuracy'])\n",
        "\n",
        "    # Step 4: Train the model\n",
        "    history = model.fit(X_train, y_train,\n",
        "                        validation_data=(X_val, y_val),\n",
        "                        epochs=10,  # Use fewer epochs for quick testing\n",
        "                        batch_size=32,\n",
        "                        verbose=1)\n",
        "\n",
        "    # Step 5: Evaluate the model\n",
        "    val_loss, val_accuracy = model.evaluate(X_val, y_val, verbose=0)\n",
        "    print(f\"Fold {fold_no} - Loss: {val_loss:.4f}, Accuracy: {val_accuracy:.4f}\")\n",
        "\n",
        "    # Save results for this fold\n",
        "    fold_accuracies.append(val_accuracy)\n",
        "    fold_losses.append(val_loss)\n",
        "\n",
        "    fold_no += 1"
      ],
      "metadata": {
        "colab": {
          "base_uri": "https://localhost:8080/"
        },
        "id": "M8tRJz8VC7-Q",
        "outputId": "0a61b1b1-d636-4070-d235-d1cd4e437590"
      },
      "execution_count": 19,
      "outputs": [
        {
          "output_type": "stream",
          "name": "stdout",
          "text": [
            "Training Fold 1...\n",
            "Epoch 1/10\n",
            "\u001b[1m1474/1474\u001b[0m \u001b[32m━━━━━━━━━━━━━━━━━━━━\u001b[0m\u001b[37m\u001b[0m \u001b[1m53s\u001b[0m 34ms/step - accuracy: 0.9199 - loss: 0.2390 - val_accuracy: 0.9980 - val_loss: 0.0065\n",
            "Epoch 2/10\n",
            "\u001b[1m1474/1474\u001b[0m \u001b[32m━━━━━━━━━━━━━━━━━━━━\u001b[0m\u001b[37m\u001b[0m \u001b[1m79s\u001b[0m 32ms/step - accuracy: 0.9959 - loss: 0.0175 - val_accuracy: 0.9983 - val_loss: 0.0058\n",
            "Epoch 3/10\n",
            "\u001b[1m1474/1474\u001b[0m \u001b[32m━━━━━━━━━━━━━━━━━━━━\u001b[0m\u001b[37m\u001b[0m \u001b[1m83s\u001b[0m 33ms/step - accuracy: 0.9972 - loss: 0.0107 - val_accuracy: 0.9992 - val_loss: 0.0020\n",
            "Epoch 4/10\n",
            "\u001b[1m1474/1474\u001b[0m \u001b[32m━━━━━━━━━━━━━━━━━━━━\u001b[0m\u001b[37m\u001b[0m \u001b[1m86s\u001b[0m 36ms/step - accuracy: 0.9983 - loss: 0.0056 - val_accuracy: 0.9992 - val_loss: 0.0020\n",
            "Epoch 5/10\n",
            "\u001b[1m1474/1474\u001b[0m \u001b[32m━━━━━━━━━━━━━━━━━━━━\u001b[0m\u001b[37m\u001b[0m \u001b[1m78s\u001b[0m 34ms/step - accuracy: 0.9984 - loss: 0.0058 - val_accuracy: 0.9994 - val_loss: 0.0019\n",
            "Epoch 6/10\n",
            "\u001b[1m1474/1474\u001b[0m \u001b[32m━━━━━━━━━━━━━━━━━━━━\u001b[0m\u001b[37m\u001b[0m \u001b[1m80s\u001b[0m 32ms/step - accuracy: 0.9986 - loss: 0.0051 - val_accuracy: 0.9986 - val_loss: 0.0058\n",
            "Epoch 7/10\n",
            "\u001b[1m1474/1474\u001b[0m \u001b[32m━━━━━━━━━━━━━━━━━━━━\u001b[0m\u001b[37m\u001b[0m \u001b[1m48s\u001b[0m 33ms/step - accuracy: 0.9984 - loss: 0.0045 - val_accuracy: 0.9995 - val_loss: 0.0023\n",
            "Epoch 8/10\n",
            "\u001b[1m1474/1474\u001b[0m \u001b[32m━━━━━━━━━━━━━━━━━━━━\u001b[0m\u001b[37m\u001b[0m \u001b[1m46s\u001b[0m 31ms/step - accuracy: 0.9990 - loss: 0.0035 - val_accuracy: 0.9993 - val_loss: 0.0020\n",
            "Epoch 9/10\n",
            "\u001b[1m1474/1474\u001b[0m \u001b[32m━━━━━━━━━━━━━━━━━━━━\u001b[0m\u001b[37m\u001b[0m \u001b[1m83s\u001b[0m 32ms/step - accuracy: 0.9990 - loss: 0.0030 - val_accuracy: 0.9997 - val_loss: 0.0021\n",
            "Epoch 10/10\n",
            "\u001b[1m1474/1474\u001b[0m \u001b[32m━━━━━━━━━━━━━━━━━━━━\u001b[0m\u001b[37m\u001b[0m \u001b[1m82s\u001b[0m 32ms/step - accuracy: 0.9997 - loss: 0.0013 - val_accuracy: 0.9992 - val_loss: 0.0031\n",
            "Fold 1 - Loss: 0.0031, Accuracy: 0.9992\n",
            "Training Fold 2...\n",
            "Epoch 1/10\n",
            "\u001b[1m1474/1474\u001b[0m \u001b[32m━━━━━━━━━━━━━━━━━━━━\u001b[0m\u001b[37m\u001b[0m \u001b[1m55s\u001b[0m 36ms/step - accuracy: 0.9222 - loss: 0.2293 - val_accuracy: 0.9982 - val_loss: 0.0115\n",
            "Epoch 2/10\n",
            "\u001b[1m1474/1474\u001b[0m \u001b[32m━━━━━━━━━━━━━━━━━━━━\u001b[0m\u001b[37m\u001b[0m \u001b[1m83s\u001b[0m 37ms/step - accuracy: 0.9962 - loss: 0.0158 - val_accuracy: 0.9984 - val_loss: 0.0082\n",
            "Epoch 3/10\n",
            "\u001b[1m1474/1474\u001b[0m \u001b[32m━━━━━━━━━━━━━━━━━━━━\u001b[0m\u001b[37m\u001b[0m \u001b[1m51s\u001b[0m 35ms/step - accuracy: 0.9972 - loss: 0.0110 - val_accuracy: 0.9986 - val_loss: 0.0038\n",
            "Epoch 4/10\n",
            "\u001b[1m1474/1474\u001b[0m \u001b[32m━━━━━━━━━━━━━━━━━━━━\u001b[0m\u001b[37m\u001b[0m \u001b[1m50s\u001b[0m 34ms/step - accuracy: 0.9969 - loss: 0.0101 - val_accuracy: 0.9990 - val_loss: 0.0035\n",
            "Epoch 5/10\n",
            "\u001b[1m1474/1474\u001b[0m \u001b[32m━━━━━━━━━━━━━━━━━━━━\u001b[0m\u001b[37m\u001b[0m \u001b[1m82s\u001b[0m 34ms/step - accuracy: 0.9983 - loss: 0.0055 - val_accuracy: 0.9987 - val_loss: 0.0049\n",
            "Epoch 6/10\n",
            "\u001b[1m1474/1474\u001b[0m \u001b[32m━━━━━━━━━━━━━━━━━━━━\u001b[0m\u001b[37m\u001b[0m \u001b[1m49s\u001b[0m 33ms/step - accuracy: 0.9984 - loss: 0.0070 - val_accuracy: 0.9993 - val_loss: 0.0023\n",
            "Epoch 7/10\n",
            "\u001b[1m1474/1474\u001b[0m \u001b[32m━━━━━━━━━━━━━━━━━━━━\u001b[0m\u001b[37m\u001b[0m \u001b[1m46s\u001b[0m 32ms/step - accuracy: 0.9991 - loss: 0.0024 - val_accuracy: 0.9992 - val_loss: 0.0029\n",
            "Epoch 8/10\n",
            "\u001b[1m1474/1474\u001b[0m \u001b[32m━━━━━━━━━━━━━━━━━━━━\u001b[0m\u001b[37m\u001b[0m \u001b[1m83s\u001b[0m 32ms/step - accuracy: 0.9978 - loss: 0.0089 - val_accuracy: 0.9995 - val_loss: 0.0016\n",
            "Epoch 9/10\n",
            "\u001b[1m1474/1474\u001b[0m \u001b[32m━━━━━━━━━━━━━━━━━━━━\u001b[0m\u001b[37m\u001b[0m \u001b[1m82s\u001b[0m 32ms/step - accuracy: 0.9990 - loss: 0.0034 - val_accuracy: 0.9990 - val_loss: 0.0043\n",
            "Epoch 10/10\n",
            "\u001b[1m1474/1474\u001b[0m \u001b[32m━━━━━━━━━━━━━━━━━━━━\u001b[0m\u001b[37m\u001b[0m \u001b[1m46s\u001b[0m 31ms/step - accuracy: 0.9988 - loss: 0.0036 - val_accuracy: 0.9991 - val_loss: 0.0038\n",
            "Fold 2 - Loss: 0.0038, Accuracy: 0.9991\n",
            "Training Fold 3...\n",
            "Epoch 1/10\n",
            "\u001b[1m1474/1474\u001b[0m \u001b[32m━━━━━━━━━━━━━━━━━━━━\u001b[0m\u001b[37m\u001b[0m \u001b[1m52s\u001b[0m 34ms/step - accuracy: 0.9181 - loss: 0.2413 - val_accuracy: 0.9976 - val_loss: 0.0102\n",
            "Epoch 2/10\n",
            "\u001b[1m1474/1474\u001b[0m \u001b[32m━━━━━━━━━━━━━━━━━━━━\u001b[0m\u001b[37m\u001b[0m \u001b[1m48s\u001b[0m 33ms/step - accuracy: 0.9964 - loss: 0.0142 - val_accuracy: 0.9988 - val_loss: 0.0044\n",
            "Epoch 3/10\n",
            "\u001b[1m1474/1474\u001b[0m \u001b[32m━━━━━━━━━━━━━━━━━━━━\u001b[0m\u001b[37m\u001b[0m \u001b[1m84s\u001b[0m 34ms/step - accuracy: 0.9975 - loss: 0.0081 - val_accuracy: 0.9904 - val_loss: 0.0281\n",
            "Epoch 4/10\n",
            "\u001b[1m1474/1474\u001b[0m \u001b[32m━━━━━━━━━━━━━━━━━━━━\u001b[0m\u001b[37m\u001b[0m \u001b[1m82s\u001b[0m 34ms/step - accuracy: 0.9960 - loss: 0.0109 - val_accuracy: 0.9990 - val_loss: 0.0034\n",
            "Epoch 5/10\n",
            "\u001b[1m1474/1474\u001b[0m \u001b[32m━━━━━━━━━━━━━━━━━━━━\u001b[0m\u001b[37m\u001b[0m \u001b[1m81s\u001b[0m 33ms/step - accuracy: 0.9975 - loss: 0.0092 - val_accuracy: 0.9986 - val_loss: 0.0049\n",
            "Epoch 6/10\n",
            "\u001b[1m1474/1474\u001b[0m \u001b[32m━━━━━━━━━━━━━━━━━━━━\u001b[0m\u001b[37m\u001b[0m \u001b[1m81s\u001b[0m 33ms/step - accuracy: 0.9989 - loss: 0.0043 - val_accuracy: 0.9989 - val_loss: 0.0047\n",
            "Epoch 7/10\n",
            "\u001b[1m1474/1474\u001b[0m \u001b[32m━━━━━━━━━━━━━━━━━━━━\u001b[0m\u001b[37m\u001b[0m \u001b[1m46s\u001b[0m 31ms/step - accuracy: 0.9989 - loss: 0.0034 - val_accuracy: 0.9991 - val_loss: 0.0025\n",
            "Epoch 8/10\n",
            "\u001b[1m1474/1474\u001b[0m \u001b[32m━━━━━━━━━━━━━━━━━━━━\u001b[0m\u001b[37m\u001b[0m \u001b[1m87s\u001b[0m 35ms/step - accuracy: 0.9981 - loss: 0.0057 - val_accuracy: 0.9988 - val_loss: 0.0031\n",
            "Epoch 9/10\n",
            "\u001b[1m1474/1474\u001b[0m \u001b[32m━━━━━━━━━━━━━━━━━━━━\u001b[0m\u001b[37m\u001b[0m \u001b[1m83s\u001b[0m 36ms/step - accuracy: 0.9991 - loss: 0.0034 - val_accuracy: 0.9993 - val_loss: 0.0022\n",
            "Epoch 10/10\n",
            "\u001b[1m1474/1474\u001b[0m \u001b[32m━━━━━━━━━━━━━━━━━━━━\u001b[0m\u001b[37m\u001b[0m \u001b[1m79s\u001b[0m 34ms/step - accuracy: 0.9994 - loss: 0.0021 - val_accuracy: 0.9989 - val_loss: 0.0047\n",
            "Fold 3 - Loss: 0.0047, Accuracy: 0.9989\n",
            "Training Fold 4...\n",
            "Epoch 1/10\n",
            "\u001b[1m1474/1474\u001b[0m \u001b[32m━━━━━━━━━━━━━━━━━━━━\u001b[0m\u001b[37m\u001b[0m \u001b[1m51s\u001b[0m 33ms/step - accuracy: 0.9165 - loss: 0.2453 - val_accuracy: 0.9965 - val_loss: 0.0155\n",
            "Epoch 2/10\n",
            "\u001b[1m1474/1474\u001b[0m \u001b[32m━━━━━━━━━━━━━━━━━━━━\u001b[0m\u001b[37m\u001b[0m \u001b[1m83s\u001b[0m 34ms/step - accuracy: 0.9959 - loss: 0.0159 - val_accuracy: 0.9982 - val_loss: 0.0073\n",
            "Epoch 3/10\n",
            "\u001b[1m1474/1474\u001b[0m \u001b[32m━━━━━━━━━━━━━━━━━━━━\u001b[0m\u001b[37m\u001b[0m \u001b[1m81s\u001b[0m 34ms/step - accuracy: 0.9970 - loss: 0.0103 - val_accuracy: 0.9982 - val_loss: 0.0088\n",
            "Epoch 4/10\n",
            "\u001b[1m1474/1474\u001b[0m \u001b[32m━━━━━━━━━━━━━━━━━━━━\u001b[0m\u001b[37m\u001b[0m \u001b[1m81s\u001b[0m 33ms/step - accuracy: 0.9978 - loss: 0.0074 - val_accuracy: 0.9985 - val_loss: 0.0069\n",
            "Epoch 5/10\n",
            "\u001b[1m1474/1474\u001b[0m \u001b[32m━━━━━━━━━━━━━━━━━━━━\u001b[0m\u001b[37m\u001b[0m \u001b[1m81s\u001b[0m 32ms/step - accuracy: 0.9986 - loss: 0.0047 - val_accuracy: 0.9980 - val_loss: 0.0068\n",
            "Epoch 6/10\n",
            "\u001b[1m1474/1474\u001b[0m \u001b[32m━━━━━━━━━━━━━━━━━━━━\u001b[0m\u001b[37m\u001b[0m \u001b[1m81s\u001b[0m 32ms/step - accuracy: 0.9990 - loss: 0.0035 - val_accuracy: 0.9992 - val_loss: 0.0049\n",
            "Epoch 7/10\n",
            "\u001b[1m1474/1474\u001b[0m \u001b[32m━━━━━━━━━━━━━━━━━━━━\u001b[0m\u001b[37m\u001b[0m \u001b[1m81s\u001b[0m 31ms/step - accuracy: 0.9993 - loss: 0.0022 - val_accuracy: 0.9988 - val_loss: 0.0064\n",
            "Epoch 8/10\n",
            "\u001b[1m1474/1474\u001b[0m \u001b[32m━━━━━━━━━━━━━━━━━━━━\u001b[0m\u001b[37m\u001b[0m \u001b[1m46s\u001b[0m 31ms/step - accuracy: 0.9988 - loss: 0.0041 - val_accuracy: 0.9992 - val_loss: 0.0044\n",
            "Epoch 9/10\n",
            "\u001b[1m1474/1474\u001b[0m \u001b[32m━━━━━━━━━━━━━━━━━━━━\u001b[0m\u001b[37m\u001b[0m \u001b[1m84s\u001b[0m 33ms/step - accuracy: 0.9990 - loss: 0.0035 - val_accuracy: 0.9992 - val_loss: 0.0036\n",
            "Epoch 10/10\n",
            "\u001b[1m1474/1474\u001b[0m \u001b[32m━━━━━━━━━━━━━━━━━━━━\u001b[0m\u001b[37m\u001b[0m \u001b[1m84s\u001b[0m 34ms/step - accuracy: 0.9990 - loss: 0.0031 - val_accuracy: 0.9989 - val_loss: 0.0057\n",
            "Fold 4 - Loss: 0.0057, Accuracy: 0.9989\n",
            "Training Fold 5...\n",
            "Epoch 1/10\n",
            "\u001b[1m1474/1474\u001b[0m \u001b[32m━━━━━━━━━━━━━━━━━━━━\u001b[0m\u001b[37m\u001b[0m \u001b[1m50s\u001b[0m 33ms/step - accuracy: 0.9128 - loss: 0.2508 - val_accuracy: 0.9953 - val_loss: 0.0206\n",
            "Epoch 2/10\n",
            "\u001b[1m1474/1474\u001b[0m \u001b[32m━━━━━━━━━━━━━━━━━━━━\u001b[0m\u001b[37m\u001b[0m \u001b[1m81s\u001b[0m 33ms/step - accuracy: 0.9960 - loss: 0.0164 - val_accuracy: 0.9989 - val_loss: 0.0055\n",
            "Epoch 3/10\n",
            "\u001b[1m1474/1474\u001b[0m \u001b[32m━━━━━━━━━━━━━━━━━━━━\u001b[0m\u001b[37m\u001b[0m \u001b[1m52s\u001b[0m 35ms/step - accuracy: 0.9968 - loss: 0.0110 - val_accuracy: 0.9976 - val_loss: 0.0065\n",
            "Epoch 4/10\n",
            "\u001b[1m1474/1474\u001b[0m \u001b[32m━━━━━━━━━━━━━━━━━━━━\u001b[0m\u001b[37m\u001b[0m \u001b[1m79s\u001b[0m 33ms/step - accuracy: 0.9979 - loss: 0.0067 - val_accuracy: 0.9987 - val_loss: 0.0038\n",
            "Epoch 5/10\n",
            "\u001b[1m1474/1474\u001b[0m \u001b[32m━━━━━━━━━━━━━━━━━━━━\u001b[0m\u001b[37m\u001b[0m \u001b[1m81s\u001b[0m 32ms/step - accuracy: 0.9980 - loss: 0.0063 - val_accuracy: 0.9980 - val_loss: 0.0059\n",
            "Epoch 6/10\n",
            "\u001b[1m1474/1474\u001b[0m \u001b[32m━━━━━━━━━━━━━━━━━━━━\u001b[0m\u001b[37m\u001b[0m \u001b[1m82s\u001b[0m 32ms/step - accuracy: 0.9974 - loss: 0.0089 - val_accuracy: 0.9992 - val_loss: 0.0034\n",
            "Epoch 7/10\n",
            "\u001b[1m1474/1474\u001b[0m \u001b[32m━━━━━━━━━━━━━━━━━━━━\u001b[0m\u001b[37m\u001b[0m \u001b[1m82s\u001b[0m 32ms/step - accuracy: 0.9989 - loss: 0.0036 - val_accuracy: 0.9992 - val_loss: 0.0045\n",
            "Epoch 8/10\n",
            "\u001b[1m1474/1474\u001b[0m \u001b[32m━━━━━━━━━━━━━━━━━━━━\u001b[0m\u001b[37m\u001b[0m \u001b[1m84s\u001b[0m 34ms/step - accuracy: 0.9987 - loss: 0.0041 - val_accuracy: 0.9995 - val_loss: 0.0023\n",
            "Epoch 9/10\n",
            "\u001b[1m1474/1474\u001b[0m \u001b[32m━━━━━━━━━━━━━━━━━━━━\u001b[0m\u001b[37m\u001b[0m \u001b[1m82s\u001b[0m 34ms/step - accuracy: 0.9988 - loss: 0.0029 - val_accuracy: 0.9994 - val_loss: 0.0027\n",
            "Epoch 10/10\n",
            "\u001b[1m1474/1474\u001b[0m \u001b[32m━━━━━━━━━━━━━━━━━━━━\u001b[0m\u001b[37m\u001b[0m \u001b[1m47s\u001b[0m 32ms/step - accuracy: 0.9995 - loss: 0.0017 - val_accuracy: 0.9997 - val_loss: 0.0012\n",
            "Fold 5 - Loss: 0.0012, Accuracy: 0.9997\n"
          ]
        }
      ]
    },
    {
      "cell_type": "code",
      "source": [
        "# Step 6: Aggregate Results\n",
        "mean_accuracy = np.mean(fold_accuracies)\n",
        "mean_loss = np.mean(fold_losses)\n",
        "print(\"\\nCross-Validation Results:\")\n",
        "print(f\"Mean Accuracy: {mean_accuracy:.4f}\")\n",
        "print(f\"Mean Loss: {mean_loss:.4f}\")"
      ],
      "metadata": {
        "colab": {
          "base_uri": "https://localhost:8080/"
        },
        "id": "RGd5rDc4zy_m",
        "outputId": "8cff128b-8862-4814-ba0a-f4e4f8698d63"
      },
      "execution_count": 22,
      "outputs": [
        {
          "output_type": "stream",
          "name": "stdout",
          "text": [
            "\n",
            "Cross-Validation Results:\n",
            "Mean Accuracy: 0.9992\n",
            "Mean Loss: 0.0037\n"
          ]
        }
      ]
    }
  ]
}